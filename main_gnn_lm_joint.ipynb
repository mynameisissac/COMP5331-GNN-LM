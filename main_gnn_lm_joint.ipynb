{
 "cells": [
  {
   "cell_type": "code",
   "execution_count": 1,
   "metadata": {},
   "outputs": [
    {
     "name": "stderr",
     "output_type": "stream",
     "text": [
      "/home/kshou/miniconda3/envs/gnn/lib/python3.11/site-packages/tqdm/auto.py:21: TqdmWarning: IProgress not found. Please update jupyter and ipywidgets. See https://ipywidgets.readthedocs.io/en/stable/user_install.html\n",
      "  from .autonotebook import tqdm as notebook_tqdm\n"
     ]
    }
   ],
   "source": [
    "import os\n",
    "os.environ['CUDA_VISIBLE_DEVICES'] = '2'\n",
    "\n",
    "import torch\n",
    "import torch.nn as nn\n",
    "import numpy as np\n",
    "import matplotlib.pyplot as plt\n",
    "import random \n",
    "from tqdm import tqdm\n",
    "from data_utils.load_cora import *\n",
    "from data_utils.load_pubmed import *\n",
    "\n",
    "import torch.nn.functional as F\n",
    "from torch_geometric.nn import GCNConv"
   ]
  },
  {
   "cell_type": "code",
   "execution_count": 2,
   "metadata": {},
   "outputs": [],
   "source": [
    "def set_seed(seed=0):\n",
    "    torch.manual_seed(seed)\n",
    "    if torch.cuda.is_available():\n",
    "        torch.cuda.manual_seed(seed)\n",
    "    np.random.seed(seed)  \n",
    "    random.seed(seed)\n",
    "\n",
    "# \n",
    "set_seed(0)\n",
    "\n",
    "def freeze_unfreeze_bert(model, tune_last_n=4):\n",
    "    # freeze whole bert\n",
    "    for param in model.parameters():\n",
    "        param.requires_grad = False\n",
    "    \n",
    "    # unfreeze last 4 layers\n",
    "    for param in model.encoder.layer[-tune_last_n:].parameters():\n",
    "        param.requires_grad = True\n",
    "    \n",
    "    return model"
   ]
  },
  {
   "cell_type": "code",
   "execution_count": 3,
   "metadata": {},
   "outputs": [],
   "source": [
    "class GCN(torch.nn.Module):\n",
    "    def __init__(self, in_dim, hid_dim, num_classes, num_layers=2):\n",
    "        super().__init__()\n",
    "        assert num_layers >= 2\n",
    "        self.conv_layers = nn.ModuleList()\n",
    "        self.conv_layers.append(GCNConv(in_dim, hid_dim, cached=True))       # first layer\n",
    "        \n",
    "        for _ in range(num_layers - 2):\n",
    "            self.conv_layers.append(GCNConv(hid_dim, hid_dim, cached=True))  # hidden layers\n",
    "        \n",
    "        self.conv_layers.append(GCNConv(hid_dim, num_classes, cached=True))   # last layer\n",
    "\n",
    "    def forward(self, x, edge_index):   # x: node_feats, edge_index: [2, num_edges]\n",
    "        for i, conv in enumerate(self.conv_layers[:-1]):\n",
    "            x = conv(x, edge_index)\n",
    "            x = F.relu(x)\n",
    "            x = F.dropout(x, p=0.5, training=self.training)\n",
    "\n",
    "        x = self.conv_layers[-1](x, edge_index)     # logit,    [N, num_classes]\n",
    "        return x            "
   ]
  },
  {
   "cell_type": "code",
   "execution_count": 4,
   "metadata": {},
   "outputs": [
    {
     "name": "stderr",
     "output_type": "stream",
     "text": [
      "/home/kshou/miniconda3/envs/gnn/lib/python3.11/site-packages/torchvision/datapoints/__init__.py:12: UserWarning: The torchvision.datapoints and torchvision.transforms.v2 namespaces are still Beta. While we do not expect major breaking changes, some APIs may still change according to user feedback. Please submit any feedback you may have in this issue: https://github.com/pytorch/vision/issues/6753, and you can also check out https://github.com/pytorch/vision/issues/7319 to learn more about the APIs that we suspect might involve future changes. You can silence this warning by calling torchvision.disable_beta_transforms_warning().\n",
      "  warnings.warn(_BETA_TRANSFORMS_WARNING)\n",
      "/home/kshou/miniconda3/envs/gnn/lib/python3.11/site-packages/torchvision/transforms/v2/__init__.py:54: UserWarning: The torchvision.datapoints and torchvision.transforms.v2 namespaces are still Beta. While we do not expect major breaking changes, some APIs may still change according to user feedback. Please submit any feedback you may have in this issue: https://github.com/pytorch/vision/issues/6753, and you can also check out https://github.com/pytorch/vision/issues/7319 to learn more about the APIs that we suspect might involve future changes. You can silence this warning by calling torchvision.disable_beta_transforms_warning().\n",
      "  warnings.warn(_BETA_TRANSFORMS_WARNING)\n"
     ]
    }
   ],
   "source": [
    "from transformers import BertTokenizer, BertModel\n",
    "tokenizer = BertTokenizer.from_pretrained('bert-base-uncased', max_position_embeddings=512)"
   ]
  },
  {
   "cell_type": "markdown",
   "metadata": {},
   "source": [
    "### Cora"
   ]
  },
  {
   "cell_type": "code",
   "execution_count": 4,
   "metadata": {},
   "outputs": [],
   "source": [
    "# load Cora\n",
    "data_cora, text_cora = get_raw_text_cora(use_text=True)\n",
    "data_cora.num_classes = data_cora.y.max().item() + 1      # 7"
   ]
  },
  {
   "cell_type": "code",
   "execution_count": 5,
   "metadata": {},
   "outputs": [],
   "source": [
    "class LM_GNN():                                    \n",
    "    def __init__(self, lm_model, gnn_model, lm_optim, gnn_optim, t5=False):\n",
    "        super().__init__()\n",
    "        self.lm_model = lm_model\n",
    "        self.gnn_model = gnn_model\n",
    "        self.t5 = t5\n",
    "        self.text_embed_dim = 768 if not t5 else 512\n",
    "\n",
    "        self.optimizer_lm = lm_optim\n",
    "        self.optimizer_gnn = gnn_optim\n",
    "\n",
    "    def count_parameters(self):\n",
    "        lm_total = sum(p.numel() for p in self.lm_model.parameters())\n",
    "        gnn_total = sum(p.numel() for p in self.gnn_model.parameters())\n",
    "        lm_trainable = sum(p.numel() for p in self.lm_model.parameters() if p.requires_grad)\n",
    "        gnn_trainable = sum(p.numel() for p in self.gnn_model.parameters() if p.requires_grad)\n",
    "        print(f'LM: {lm_trainable/1e6}M/{lm_total/1e6}M, {lm_trainable/lm_total*100:.2f}%')\n",
    "        print(f'GNN: {gnn_trainable}/{gnn_total}, {gnn_trainable/gnn_trainable*100:.2f}%')\n",
    "        \n",
    "    def evaluate(self, data, text, bs_text=32, eval_split='test'):\n",
    "        \"\"\"inference with the LM->GNN pipeline\"\"\"\n",
    "        assert eval_split in ['train', 'val', 'test']\n",
    "        self.lm_model.eval()\n",
    "        self.gnn_model.eval()\n",
    "        \n",
    "        with torch.no_grad():\n",
    "            n_nodes = data.num_nodes\n",
    "            text_embed = torch.zeros(n_nodes, self.text_embed_dim).to('cuda')       # N, 768\n",
    "            for i in range(0, n_nodes, bs_text):\n",
    "                inputs = {key: val[i:i+bs_text].clone().detach().to('cuda') for key, val in text.items()}\n",
    "                lm_output = self.lm_model(**inputs)\n",
    "                text_embed[i:i+bs_text] = lm_output.last_hidden_state[:, 0, :]\n",
    "            \n",
    "            logits = self.gnn_model(text_embed, data.edge_index)\n",
    "            preds = logits.argmax(dim=1)\n",
    "            mask = data[f'{eval_split}_mask']\n",
    "            correct = (preds[mask] == data.y[mask]).sum()\n",
    "            acc = int(correct) / int(mask.sum())\n",
    "        return acc\n",
    "\n",
    "    \n",
    "    def train_one_epoch(self, data, text, bs_text=32):\n",
    "        \"\"\"\n",
    "        Gradient descent both LM and GNN after full data forwarded (1 epoch=1 step update)\n",
    "        Args:\n",
    "            data: PyG data object\n",
    "            text: dict of tokenized text inputs\n",
    "            bs_text: batch size for text encoding (nothing to do with batch update, just for memory)\n",
    "        \"\"\"\n",
    "        n_nodes = data.num_nodes\n",
    "        self.lm_model.train()       # turn off the dropout in LM\n",
    "        self.gnn_model.train()\n",
    "\n",
    "        with torch.no_grad():\n",
    "            # LM forward text\n",
    "            text_embed = torch.zeros(n_nodes, self.text_embed_dim).to('cuda')        # N, 768\n",
    "            torch.manual_seed(0)        # tackle the dropout in LM\n",
    "            for i in range(0, n_nodes, bs_text):\n",
    "                inputs = {key: val[i:i+bs_text].clone().detach().to('cuda') for key, val in text.items()}\n",
    "                lm_output = self.lm_model(**inputs)\n",
    "                if not self.t5:\n",
    "                    text_embed[i:i+bs_text] = lm_output.last_hidden_state[:, 0, :]               # B, 768\n",
    "                else:\n",
    "                    text_embed[i:i+bs_text] = lm_output.last_hidden_state.mean(dim=1)            # B, 512\n",
    "\n",
    "        # GNN with the node text embeddings\n",
    "        text_embed.requires_grad = True\n",
    "        gnn_output = self.gnn_model(text_embed, data.edge_index)                                   # N, K\n",
    "\n",
    "        self.optimizer_gnn.zero_grad()\n",
    "        loss_gnn = F.cross_entropy(gnn_output[data.train_mask], data.y[data.train_mask])\n",
    "        loss = loss_gnn.item()\n",
    "        loss_gnn.backward()\n",
    "\n",
    "        # store the gradients of the node text embeddings\n",
    "        text_embed_grad = text_embed.grad.clone().detach()       # N, 768\n",
    "\n",
    "        self.optimizer_gnn.step()\n",
    "\n",
    "        # LM second time forward (for backward grad and update)\n",
    "        self.optimizer_lm.zero_grad()\n",
    "\n",
    "        torch.manual_seed(0)        \n",
    "        # gradient accumulation over all text batches (all nodes)\n",
    "        for i in tqdm(range(0, n_nodes, bs_text)):\n",
    "            inputs = {key: val[i:i+bs_text].clone().detach().to('cuda') for key, val in text.items()}\n",
    "            lm_output = self.lm_model(**inputs)\n",
    "            if not self.t5:\n",
    "                text_embed_batch = lm_output.last_hidden_state[:, 0, :]                     # B, 768\n",
    "            else:\n",
    "                text_embed_batch = lm_output.last_hidden_state.mean(dim=1)                  # B, 512\n",
    "\n",
    "            # grad from GNN loss, backward(grad) will accumulate gradients and release memory\n",
    "            text_embed_batch.backward(text_embed_grad[i:i+bs_text])                     # B, 768\n",
    "\n",
    "        self.optimizer_lm.step()\n",
    "\n",
    "        return loss\n"
   ]
  },
  {
   "cell_type": "code",
   "execution_count": 7,
   "metadata": {},
   "outputs": [
    {
     "name": "stdout",
     "output_type": "stream",
     "text": [
      "LM: 108.891648M/108.891648M, 100.00%\n",
      "GNN: 198663/198663, 100.00%\n"
     ]
    }
   ],
   "source": [
    "set_seed(0)\n",
    "\n",
    "gcn = GCN(768, 256, data_cora.num_classes, num_layers=2)\n",
    "model_text = BertModel.from_pretrained('bert-base-uncased', max_position_embeddings=512)\n",
    "model_text.pooler = nn.Identity()\n",
    "\n",
    "lm_optimizer = torch.optim.AdamW(model_text.parameters(), lr=5e-5)\n",
    "gcn_optimizer = torch.optim.AdamW(gcn.parameters(), lr=1e-3)\n",
    "\n",
    "lm_gnn = LM_GNN(model_text.cuda(), gcn.cuda(), lm_optimizer, gcn_optimizer)\n",
    "lm_gnn.count_parameters()"
   ]
  },
  {
   "cell_type": "code",
   "execution_count": 8,
   "metadata": {},
   "outputs": [
    {
     "name": "stderr",
     "output_type": "stream",
     "text": [
      "100%|██████████| 57/57 [00:56<00:00,  1.02it/s]\n",
      "  1%|          | 1/100 [01:18<2:09:04, 78.23s/it]"
     ]
    },
    {
     "name": "stdout",
     "output_type": "stream",
     "text": [
      "Epoch 1 | Loss: 2.1345\n"
     ]
    },
    {
     "name": "stderr",
     "output_type": "stream",
     "text": [
      "100%|██████████| 57/57 [00:56<00:00,  1.01it/s]\n"
     ]
    },
    {
     "name": "stdout",
     "output_type": "stream",
     "text": [
      "Epoch 2 | Loss: 2.1671\n"
     ]
    },
    {
     "name": "stderr",
     "output_type": "stream",
     "text": [
      "  2%|▏         | 2/100 [02:56<2:27:30, 90.31s/it]"
     ]
    },
    {
     "name": "stdout",
     "output_type": "stream",
     "text": [
      "Epoch 2 | Val Acc: 0.3100\n"
     ]
    },
    {
     "name": "stderr",
     "output_type": "stream",
     "text": [
      "100%|██████████| 57/57 [00:56<00:00,  1.01it/s]\n",
      "  3%|▎         | 3/100 [04:15<2:17:20, 84.95s/it]"
     ]
    },
    {
     "name": "stdout",
     "output_type": "stream",
     "text": [
      "Epoch 3 | Loss: 1.8541\n"
     ]
    },
    {
     "name": "stderr",
     "output_type": "stream",
     "text": [
      "100%|██████████| 57/57 [00:56<00:00,  1.01it/s]\n"
     ]
    },
    {
     "name": "stdout",
     "output_type": "stream",
     "text": [
      "Epoch 4 | Loss: 1.8531\n"
     ]
    },
    {
     "name": "stderr",
     "output_type": "stream",
     "text": [
      "  4%|▍         | 4/100 [05:54<2:24:41, 90.44s/it]"
     ]
    },
    {
     "name": "stdout",
     "output_type": "stream",
     "text": [
      "Epoch 4 | Val Acc: 0.3155\n"
     ]
    },
    {
     "name": "stderr",
     "output_type": "stream",
     "text": [
      "100%|██████████| 57/57 [00:56<00:00,  1.01it/s]\n",
      "  5%|▌         | 5/100 [07:12<2:16:24, 86.15s/it]"
     ]
    },
    {
     "name": "stdout",
     "output_type": "stream",
     "text": [
      "Epoch 5 | Loss: 1.8339\n"
     ]
    },
    {
     "name": "stderr",
     "output_type": "stream",
     "text": [
      "100%|██████████| 57/57 [00:56<00:00,  1.01it/s]\n"
     ]
    },
    {
     "name": "stdout",
     "output_type": "stream",
     "text": [
      "Epoch 6 | Loss: 1.7993\n"
     ]
    },
    {
     "name": "stderr",
     "output_type": "stream",
     "text": [
      "  6%|▌         | 6/100 [08:51<2:21:45, 90.48s/it]"
     ]
    },
    {
     "name": "stdout",
     "output_type": "stream",
     "text": [
      "Epoch 6 | Val Acc: 0.3100\n"
     ]
    },
    {
     "name": "stderr",
     "output_type": "stream",
     "text": [
      "100%|██████████| 57/57 [00:56<00:00,  1.01it/s]\n",
      "  7%|▋         | 7/100 [10:10<2:14:12, 86.59s/it]"
     ]
    },
    {
     "name": "stdout",
     "output_type": "stream",
     "text": [
      "Epoch 7 | Loss: 1.7703\n"
     ]
    },
    {
     "name": "stderr",
     "output_type": "stream",
     "text": [
      "100%|██████████| 57/57 [00:56<00:00,  1.01it/s]\n"
     ]
    },
    {
     "name": "stdout",
     "output_type": "stream",
     "text": [
      "Epoch 8 | Loss: 1.7282\n"
     ]
    },
    {
     "name": "stderr",
     "output_type": "stream",
     "text": [
      "  8%|▊         | 8/100 [11:49<2:18:45, 90.49s/it]"
     ]
    },
    {
     "name": "stdout",
     "output_type": "stream",
     "text": [
      "Epoch 8 | Val Acc: 0.3376\n"
     ]
    },
    {
     "name": "stderr",
     "output_type": "stream",
     "text": [
      "100%|██████████| 57/57 [00:56<00:00,  1.01it/s]\n",
      "  9%|▉         | 9/100 [13:07<2:11:34, 86.75s/it]"
     ]
    },
    {
     "name": "stdout",
     "output_type": "stream",
     "text": [
      "Epoch 9 | Loss: 1.6702\n"
     ]
    },
    {
     "name": "stderr",
     "output_type": "stream",
     "text": [
      "100%|██████████| 57/57 [00:56<00:00,  1.01it/s]\n"
     ]
    },
    {
     "name": "stdout",
     "output_type": "stream",
     "text": [
      "Epoch 10 | Loss: 1.5865\n"
     ]
    },
    {
     "name": "stderr",
     "output_type": "stream",
     "text": [
      " 10%|█         | 10/100 [14:46<2:15:42, 90.47s/it]"
     ]
    },
    {
     "name": "stdout",
     "output_type": "stream",
     "text": [
      "Epoch 10 | Val Acc: 0.3653\n"
     ]
    },
    {
     "name": "stderr",
     "output_type": "stream",
     "text": [
      "100%|██████████| 57/57 [00:56<00:00,  1.01it/s]\n",
      " 11%|█         | 11/100 [16:05<2:08:43, 86.78s/it]"
     ]
    },
    {
     "name": "stdout",
     "output_type": "stream",
     "text": [
      "Epoch 11 | Loss: 1.4654\n"
     ]
    },
    {
     "name": "stderr",
     "output_type": "stream",
     "text": [
      "100%|██████████| 57/57 [00:56<00:00,  1.01it/s]\n"
     ]
    },
    {
     "name": "stdout",
     "output_type": "stream",
     "text": [
      "Epoch 12 | Loss: 1.3104\n"
     ]
    },
    {
     "name": "stderr",
     "output_type": "stream",
     "text": [
      " 12%|█▏        | 12/100 [17:43<2:12:38, 90.43s/it]"
     ]
    },
    {
     "name": "stdout",
     "output_type": "stream",
     "text": [
      "Epoch 12 | Val Acc: 0.6550\n"
     ]
    },
    {
     "name": "stderr",
     "output_type": "stream",
     "text": [
      "100%|██████████| 57/57 [00:56<00:00,  1.01it/s]\n",
      " 13%|█▎        | 13/100 [19:02<2:05:52, 86.81s/it]"
     ]
    },
    {
     "name": "stdout",
     "output_type": "stream",
     "text": [
      "Epoch 13 | Loss: 1.1433\n"
     ]
    },
    {
     "name": "stderr",
     "output_type": "stream",
     "text": [
      "100%|██████████| 57/57 [00:56<00:00,  1.01it/s]\n"
     ]
    },
    {
     "name": "stdout",
     "output_type": "stream",
     "text": [
      "Epoch 14 | Loss: 0.9739\n"
     ]
    },
    {
     "name": "stderr",
     "output_type": "stream",
     "text": [
      " 14%|█▍        | 14/100 [20:41<2:09:36, 90.42s/it]"
     ]
    },
    {
     "name": "stdout",
     "output_type": "stream",
     "text": [
      "Epoch 14 | Val Acc: 0.7675\n"
     ]
    },
    {
     "name": "stderr",
     "output_type": "stream",
     "text": [
      "100%|██████████| 57/57 [00:56<00:00,  1.01it/s]\n",
      " 15%|█▌        | 15/100 [21:59<2:02:58, 86.80s/it]"
     ]
    },
    {
     "name": "stdout",
     "output_type": "stream",
     "text": [
      "Epoch 15 | Loss: 0.8324\n"
     ]
    },
    {
     "name": "stderr",
     "output_type": "stream",
     "text": [
      "100%|██████████| 57/57 [00:56<00:00,  1.01it/s]\n"
     ]
    },
    {
     "name": "stdout",
     "output_type": "stream",
     "text": [
      "Epoch 16 | Loss: 0.6953\n"
     ]
    },
    {
     "name": "stderr",
     "output_type": "stream",
     "text": [
      " 16%|█▌        | 16/100 [23:38<2:06:33, 90.40s/it]"
     ]
    },
    {
     "name": "stdout",
     "output_type": "stream",
     "text": [
      "Epoch 16 | Val Acc: 0.8155\n"
     ]
    },
    {
     "name": "stderr",
     "output_type": "stream",
     "text": [
      "100%|██████████| 57/57 [00:56<00:00,  1.01it/s]\n",
      " 17%|█▋        | 17/100 [24:56<2:00:05, 86.82s/it]"
     ]
    },
    {
     "name": "stdout",
     "output_type": "stream",
     "text": [
      "Epoch 17 | Loss: 0.5996\n"
     ]
    },
    {
     "name": "stderr",
     "output_type": "stream",
     "text": [
      "100%|██████████| 57/57 [00:56<00:00,  1.01it/s]\n"
     ]
    },
    {
     "name": "stdout",
     "output_type": "stream",
     "text": [
      "Epoch 18 | Loss: 0.5134\n"
     ]
    },
    {
     "name": "stderr",
     "output_type": "stream",
     "text": [
      " 18%|█▊        | 18/100 [26:35<2:03:33, 90.41s/it]"
     ]
    },
    {
     "name": "stdout",
     "output_type": "stream",
     "text": [
      "Epoch 18 | Val Acc: 0.8395\n"
     ]
    },
    {
     "name": "stderr",
     "output_type": "stream",
     "text": [
      "100%|██████████| 57/57 [00:56<00:00,  1.01it/s]\n",
      " 19%|█▉        | 19/100 [27:53<1:57:13, 86.83s/it]"
     ]
    },
    {
     "name": "stdout",
     "output_type": "stream",
     "text": [
      "Epoch 19 | Loss: 0.4487\n"
     ]
    },
    {
     "name": "stderr",
     "output_type": "stream",
     "text": [
      "100%|██████████| 57/57 [00:56<00:00,  1.01it/s]\n"
     ]
    },
    {
     "name": "stdout",
     "output_type": "stream",
     "text": [
      "Epoch 20 | Loss: 0.3973\n"
     ]
    },
    {
     "name": "stderr",
     "output_type": "stream",
     "text": [
      " 20%|██        | 20/100 [29:32<2:00:33, 90.42s/it]"
     ]
    },
    {
     "name": "stdout",
     "output_type": "stream",
     "text": [
      "Epoch 20 | Val Acc: 0.8598\n"
     ]
    },
    {
     "name": "stderr",
     "output_type": "stream",
     "text": [
      "100%|██████████| 57/57 [00:56<00:00,  1.01it/s]\n",
      " 21%|██        | 21/100 [30:51<1:54:20, 86.84s/it]"
     ]
    },
    {
     "name": "stdout",
     "output_type": "stream",
     "text": [
      "Epoch 21 | Loss: 0.3548\n"
     ]
    },
    {
     "name": "stderr",
     "output_type": "stream",
     "text": [
      "100%|██████████| 57/57 [00:56<00:00,  1.01it/s]\n"
     ]
    },
    {
     "name": "stdout",
     "output_type": "stream",
     "text": [
      "Epoch 22 | Loss: 0.3230\n"
     ]
    },
    {
     "name": "stderr",
     "output_type": "stream",
     "text": [
      " 22%|██▏       | 22/100 [32:30<1:57:33, 90.43s/it]"
     ]
    },
    {
     "name": "stdout",
     "output_type": "stream",
     "text": [
      "Epoch 22 | Val Acc: 0.8598\n"
     ]
    },
    {
     "name": "stderr",
     "output_type": "stream",
     "text": [
      "100%|██████████| 57/57 [00:56<00:00,  1.01it/s]\n",
      " 23%|██▎       | 23/100 [33:48<1:51:27, 86.85s/it]"
     ]
    },
    {
     "name": "stdout",
     "output_type": "stream",
     "text": [
      "Epoch 23 | Loss: 0.2902\n"
     ]
    },
    {
     "name": "stderr",
     "output_type": "stream",
     "text": [
      "100%|██████████| 57/57 [00:56<00:00,  1.01it/s]\n"
     ]
    },
    {
     "name": "stdout",
     "output_type": "stream",
     "text": [
      "Epoch 24 | Loss: 0.2661\n"
     ]
    },
    {
     "name": "stderr",
     "output_type": "stream",
     "text": [
      " 24%|██▍       | 24/100 [35:27<1:54:33, 90.44s/it]"
     ]
    },
    {
     "name": "stdout",
     "output_type": "stream",
     "text": [
      "Epoch 24 | Val Acc: 0.8616\n"
     ]
    },
    {
     "name": "stderr",
     "output_type": "stream",
     "text": [
      "100%|██████████| 57/57 [00:56<00:00,  1.01it/s]\n",
      " 25%|██▌       | 25/100 [36:45<1:48:34, 86.86s/it]"
     ]
    },
    {
     "name": "stdout",
     "output_type": "stream",
     "text": [
      "Epoch 25 | Loss: 0.2384\n"
     ]
    },
    {
     "name": "stderr",
     "output_type": "stream",
     "text": [
      "100%|██████████| 57/57 [00:56<00:00,  1.01it/s]\n"
     ]
    },
    {
     "name": "stdout",
     "output_type": "stream",
     "text": [
      "Epoch 26 | Loss: 0.2188\n"
     ]
    },
    {
     "name": "stderr",
     "output_type": "stream",
     "text": [
      " 26%|██▌       | 26/100 [38:24<1:51:33, 90.45s/it]"
     ]
    },
    {
     "name": "stdout",
     "output_type": "stream",
     "text": [
      "Epoch 26 | Val Acc: 0.8635\n"
     ]
    },
    {
     "name": "stderr",
     "output_type": "stream",
     "text": [
      "100%|██████████| 57/57 [00:56<00:00,  1.01it/s]\n",
      " 27%|██▋       | 27/100 [39:43<1:45:42, 86.88s/it]"
     ]
    },
    {
     "name": "stdout",
     "output_type": "stream",
     "text": [
      "Epoch 27 | Loss: 0.1978\n"
     ]
    },
    {
     "name": "stderr",
     "output_type": "stream",
     "text": [
      "100%|██████████| 57/57 [00:56<00:00,  1.01it/s]\n"
     ]
    },
    {
     "name": "stdout",
     "output_type": "stream",
     "text": [
      "Epoch 28 | Loss: 0.1817\n"
     ]
    },
    {
     "name": "stderr",
     "output_type": "stream",
     "text": [
      " 28%|██▊       | 28/100 [41:22<1:48:33, 90.47s/it]"
     ]
    },
    {
     "name": "stdout",
     "output_type": "stream",
     "text": [
      "Epoch 28 | Val Acc: 0.8635\n"
     ]
    },
    {
     "name": "stderr",
     "output_type": "stream",
     "text": [
      "100%|██████████| 57/57 [00:56<00:00,  1.01it/s]\n",
      " 29%|██▉       | 29/100 [42:40<1:42:49, 86.89s/it]"
     ]
    },
    {
     "name": "stdout",
     "output_type": "stream",
     "text": [
      "Epoch 29 | Loss: 0.1662\n"
     ]
    },
    {
     "name": "stderr",
     "output_type": "stream",
     "text": [
      "100%|██████████| 57/57 [00:56<00:00,  1.01it/s]\n"
     ]
    },
    {
     "name": "stdout",
     "output_type": "stream",
     "text": [
      "Epoch 30 | Loss: 0.1533\n"
     ]
    },
    {
     "name": "stderr",
     "output_type": "stream",
     "text": [
      " 30%|███       | 30/100 [44:19<1:45:32, 90.47s/it]"
     ]
    },
    {
     "name": "stdout",
     "output_type": "stream",
     "text": [
      "Epoch 30 | Val Acc: 0.8635\n"
     ]
    },
    {
     "name": "stderr",
     "output_type": "stream",
     "text": [
      "100%|██████████| 57/57 [00:56<00:00,  1.01it/s]\n",
      " 31%|███       | 31/100 [45:37<1:39:54, 86.88s/it]"
     ]
    },
    {
     "name": "stdout",
     "output_type": "stream",
     "text": [
      "Epoch 31 | Loss: 0.1408\n"
     ]
    },
    {
     "name": "stderr",
     "output_type": "stream",
     "text": [
      "100%|██████████| 57/57 [00:56<00:00,  1.01it/s]\n"
     ]
    },
    {
     "name": "stdout",
     "output_type": "stream",
     "text": [
      "Epoch 32 | Loss: 0.1313\n"
     ]
    },
    {
     "name": "stderr",
     "output_type": "stream",
     "text": [
      " 31%|███       | 31/100 [47:16<1:45:14, 91.51s/it]"
     ]
    },
    {
     "name": "stdout",
     "output_type": "stream",
     "text": [
      "Epoch 32 | Val Acc: 0.8635\n",
      "Early stopping at epoch 32\n"
     ]
    },
    {
     "name": "stderr",
     "output_type": "stream",
     "text": [
      "\n"
     ]
    }
   ],
   "source": [
    "set_seed(0)\n",
    "\n",
    "# tokenize all texts\n",
    "text_inputs = tokenizer(text_cora, return_tensors='pt', padding=True, truncation=True, max_length=512)          # dict_keys(['input_ids', 'token_type_ids', 'attention_mask'])\n",
    "data_cora = data_cora.cuda()\n",
    "\n",
    "# joint training\n",
    "EPOCHS = 100\n",
    "cora_epoch_loss_list = []\n",
    "\n",
    "early_stop_ep = 6\n",
    "epoch_no_improve = 0\n",
    "val_ep = 2\n",
    "best_val_acc = 0\n",
    "\n",
    "for i in tqdm(range(EPOCHS)):\n",
    "    epoch = i + 1\n",
    "    \n",
    "    loss = lm_gnn.train_one_epoch(data_cora, text_inputs, bs_text=48)\n",
    "    \n",
    "    print(f'Epoch {epoch} | Loss: {loss:.4f}')\n",
    "    cora_epoch_loss_list.append(loss)\n",
    "    \n",
    "    if epoch % val_ep == 0:\n",
    "        acc = lm_gnn.evaluate(data_cora, text_inputs, bs_text=48, eval_split='val')\n",
    "        print(f'Epoch {epoch} | Val Acc: {acc:.4f}')\n",
    "\n",
    "        if acc > best_val_acc:\n",
    "            best_val_acc = acc\n",
    "            epoch_no_improve = 0\n",
    "        else:\n",
    "            epoch_no_improve += val_ep\n",
    "        \n",
    "        if epoch_no_improve >= early_stop_ep:\n",
    "            print(f'Early stopping at epoch {epoch}')\n",
    "            break"
   ]
  },
  {
   "cell_type": "code",
   "execution_count": 9,
   "metadata": {},
   "outputs": [
    {
     "data": {
      "image/png": "[encoded data removed]",
      "text/plain": [
       "<Figure size 640x480 with 1 Axes>"
      ]
     },
     "metadata": {},
     "output_type": "display_data"
    }
   ],
   "source": [
    "plt.plot(cora_epoch_loss_list, label='Cora')\n",
    "plt.legend()\n",
    "plt.show()"
   ]
  },
  {
   "cell_type": "code",
   "execution_count": 10,
   "metadata": {},
   "outputs": [
    {
     "name": "stdout",
     "output_type": "stream",
     "text": [
      "Accuracy: Train 0.9384, Val 0.8635, Test 0.8819\n"
     ]
    }
   ],
   "source": [
    "acc_train = lm_gnn.evaluate(data_cora, text_inputs, bs_text=32, eval_split='train')\n",
    "acc_val = lm_gnn.evaluate(data_cora, text_inputs, bs_text=32, eval_split='val')\n",
    "acc_test = lm_gnn.evaluate(data_cora, text_inputs, bs_text=32, eval_split='test')\n",
    "print(f'Accuracy: Train {acc_train:.4f}, Val {acc_val:.4f}, Test {acc_test:.4f}')"
   ]
  },
  {
   "cell_type": "code",
   "execution_count": 20,
   "metadata": {},
   "outputs": [],
   "source": [
    "# store the joint model\n",
    "# torch.save(lm_gnn.lm_model.state_dict(), './weights/lm_gnn/bert_cora_joint-127ep.pt')\n",
    "# torch.save(lm_gnn.gnn_model.state_dict(), './weights/lm_gnn/gcn_cora_joint-127ep.pt')"
   ]
  },
  {
   "cell_type": "markdown",
   "metadata": {},
   "source": [
    "### Pubmed"
   ]
  },
  {
   "cell_type": "code",
   "execution_count": null,
   "metadata": {},
   "outputs": [],
   "source": [
    "# load Pubmed\n",
    "data_pubmed, text_pubmed = get_raw_text_pubmed(use_text=True)\n",
    "data_pubmed.num_classes = data_pubmed.y.max().item() + 1      # 3"
   ]
  },
  {
   "cell_type": "code",
   "execution_count": null,
   "metadata": {},
   "outputs": [],
   "source": [
    "set_seed(0)\n",
    "\n",
    "gcn = GCN(768, 256, data_pubmed.num_classes, num_layers=2)\n",
    "model_text = BertModel.from_pretrained('bert-base-uncased', max_position_embeddings=512)\n",
    "model_text.pooler = nn.Identity()\n",
    "\n",
    "lm_optimizer = torch.optim.AdamW(model_text.parameters(), lr=1e-3)\n",
    "gcn_optimizer = torch.optim.AdamW(gcn.parameters(), lr=1e-3)\n",
    "\n",
    "lm_gnn = LM_GNN(model_text.cuda(), gcn.cuda(), lm_optimizer, gcn_optimizer)\n",
    "lm_gnn.count_parameters()"
   ]
  },
  {
   "cell_type": "code",
   "execution_count": null,
   "metadata": {},
   "outputs": [],
   "source": [
    "# tokenize all texts\n",
    "text_inputs = tokenizer(text_pubmed, return_tensors='pt', padding=True, truncation=True, max_length=512)          # dict_keys(['input_ids', 'token_type_ids', 'attention_mask'])\n",
    "data_pubmed = data_pubmed.cuda()\n",
    "\n",
    "# joint training\n",
    "EPOCHS = 100\n",
    "pubmed_epoch_loss_list = []\n",
    "\n",
    "early_stop_ep = 20\n",
    "epoch_no_improve = 0\n",
    "val_ep = 5\n",
    "best_val_acc = 0\n",
    "\n",
    "for i in tqdm(range(EPOCHS)):\n",
    "    epoch = i + 1\n",
    "    \n",
    "    loss = lm_gnn.train_one_epoch(data_pubmed, text_inputs, bs_text=48)\n",
    "\n",
    "    print(f'Epoch {epoch}, Loss: {loss:.4f}')\n",
    "    pubmed_epoch_loss_list.append(loss)\n",
    "\n",
    "    if epoch % val_ep == 0:\n",
    "        acc = lm_gnn.evaluate(data_pubmed, text_inputs, bs_text=48, eval_split='val')\n",
    "        print(f'Epoch {epoch} | Val Acc: {acc:.4f}')\n",
    "\n",
    "        if acc > best_val_acc:\n",
    "            best_val_acc = acc\n",
    "            epoch_no_improve = 0\n",
    "        else:\n",
    "            epoch_no_improve += val_ep\n",
    "        \n",
    "        if epoch_no_improve >= early_stop_ep:\n",
    "            print(f'Early stopping at epoch {epoch}')\n",
    "            break"
   ]
  },
  {
   "cell_type": "code",
   "execution_count": null,
   "metadata": {},
   "outputs": [],
   "source": [
    "# plot loss\n",
    "plt.plot(cora_epoch_loss_list, label='Cora')\n",
    "plt.plot(pubmed_epoch_loss_list, label='Pubmed')\n",
    "plt.legend()\n",
    "plt.show()"
   ]
  },
  {
   "cell_type": "code",
   "execution_count": null,
   "metadata": {},
   "outputs": [],
   "source": [
    "acc_train = lm_gnn.evaluate(data_pubmed, text_inputs, bs_text=48, eval_split='train')\n",
    "acc_val = lm_gnn.evaluate(data_pubmed, text_inputs, bs_text=48, eval_split='val')\n",
    "acc_test = lm_gnn.evaluate(data_pubmed, text_inputs, bs_text=48, eval_split='test')\n",
    "print(f'Accuracy: Train {acc_train:.4f}, Val {acc_val:.4f}, Test {acc_test:.4f}')"
   ]
  },
  {
   "cell_type": "markdown",
   "metadata": {},
   "source": [
    "## T5"
   ]
  },
  {
   "cell_type": "code",
   "execution_count": 6,
   "metadata": {},
   "outputs": [
    {
     "name": "stderr",
     "output_type": "stream",
     "text": [
      "/home/kshou/miniconda3/envs/gnn/lib/python3.11/site-packages/torchvision/datapoints/__init__.py:12: UserWarning: The torchvision.datapoints and torchvision.transforms.v2 namespaces are still Beta. While we do not expect major breaking changes, some APIs may still change according to user feedback. Please submit any feedback you may have in this issue: https://github.com/pytorch/vision/issues/6753, and you can also check out https://github.com/pytorch/vision/issues/7319 to learn more about the APIs that we suspect might involve future changes. You can silence this warning by calling torchvision.disable_beta_transforms_warning().\n",
      "  warnings.warn(_BETA_TRANSFORMS_WARNING)\n",
      "/home/kshou/miniconda3/envs/gnn/lib/python3.11/site-packages/torchvision/transforms/v2/__init__.py:54: UserWarning: The torchvision.datapoints and torchvision.transforms.v2 namespaces are still Beta. While we do not expect major breaking changes, some APIs may still change according to user feedback. Please submit any feedback you may have in this issue: https://github.com/pytorch/vision/issues/6753, and you can also check out https://github.com/pytorch/vision/issues/7319 to learn more about the APIs that we suspect might involve future changes. You can silence this warning by calling torchvision.disable_beta_transforms_warning().\n",
      "  warnings.warn(_BETA_TRANSFORMS_WARNING)\n"
     ]
    }
   ],
   "source": [
    "from transformers import AutoTokenizer, T5EncoderModel\n",
    "# load Cora\n",
    "data_cora, text_cora = get_raw_text_cora(use_text=True)\n",
    "data_cora.num_classes = data_cora.y.max().item() + 1      # 7"
   ]
  },
  {
   "cell_type": "code",
   "execution_count": 7,
   "metadata": {},
   "outputs": [
    {
     "name": "stdout",
     "output_type": "stream",
     "text": [
      "LM: 35.330816M/35.330816M, 100.00%\n",
      "GNN: 66567/66567, 100.00%\n"
     ]
    }
   ],
   "source": [
    "set_seed(0)\n",
    "tokenizer = AutoTokenizer.from_pretrained(\"google-t5/t5-small\")\n",
    "model_text = T5EncoderModel.from_pretrained(\"google-t5/t5-small\")\n",
    "\n",
    "gcn = GCN(512, 128, data_cora.num_classes, num_layers=2)\n",
    "lm_optimizer = torch.optim.AdamW(model_text.parameters(), lr=5e-4)\n",
    "gcn_optimizer = torch.optim.AdamW(gcn.parameters(), lr=1e-3)\n",
    "\n",
    "lm_gnn = LM_GNN(model_text.cuda(), gcn.cuda(), lm_optimizer, gcn_optimizer, t5=True)\n",
    "lm_gnn.count_parameters()"
   ]
  },
  {
   "cell_type": "code",
   "execution_count": 8,
   "metadata": {},
   "outputs": [
    {
     "name": "stderr",
     "output_type": "stream",
     "text": [
      "100%|██████████| 57/57 [00:18<00:00,  3.14it/s]\n",
      "  1%|          | 1/100 [00:27<44:56, 27.24s/it]"
     ]
    },
    {
     "name": "stdout",
     "output_type": "stream",
     "text": [
      "Epoch 1 | Loss: 1.9324\n"
     ]
    },
    {
     "name": "stderr",
     "output_type": "stream",
     "text": [
      "100%|██████████| 57/57 [00:18<00:00,  3.12it/s]\n"
     ]
    },
    {
     "name": "stdout",
     "output_type": "stream",
     "text": [
      "Epoch 2 | Loss: 1.8692\n"
     ]
    },
    {
     "name": "stderr",
     "output_type": "stream",
     "text": [
      "  2%|▏         | 2/100 [00:59<49:10, 30.11s/it]"
     ]
    },
    {
     "name": "stdout",
     "output_type": "stream",
     "text": [
      "Epoch 2 | Val Acc: 0.3100\n"
     ]
    },
    {
     "name": "stderr",
     "output_type": "stream",
     "text": [
      "100%|██████████| 57/57 [00:18<00:00,  3.11it/s]\n",
      "  3%|▎         | 3/100 [01:25<45:25, 28.10s/it]"
     ]
    },
    {
     "name": "stdout",
     "output_type": "stream",
     "text": [
      "Epoch 3 | Loss: 1.8456\n"
     ]
    },
    {
     "name": "stderr",
     "output_type": "stream",
     "text": [
      "100%|██████████| 57/57 [00:18<00:00,  3.11it/s]\n"
     ]
    },
    {
     "name": "stdout",
     "output_type": "stream",
     "text": [
      "Epoch 4 | Loss: 1.8379\n"
     ]
    },
    {
     "name": "stderr",
     "output_type": "stream",
     "text": [
      "  4%|▍         | 4/100 [01:57<47:36, 29.75s/it]"
     ]
    },
    {
     "name": "stdout",
     "output_type": "stream",
     "text": [
      "Epoch 4 | Val Acc: 0.3100\n"
     ]
    },
    {
     "name": "stderr",
     "output_type": "stream",
     "text": [
      "100%|██████████| 57/57 [00:18<00:00,  3.10it/s]\n",
      "  5%|▌         | 5/100 [02:23<44:50, 28.32s/it]"
     ]
    },
    {
     "name": "stdout",
     "output_type": "stream",
     "text": [
      "Epoch 5 | Loss: 1.8300\n"
     ]
    },
    {
     "name": "stderr",
     "output_type": "stream",
     "text": [
      "100%|██████████| 57/57 [00:18<00:00,  3.10it/s]\n"
     ]
    },
    {
     "name": "stdout",
     "output_type": "stream",
     "text": [
      "Epoch 6 | Loss: 1.8185\n"
     ]
    },
    {
     "name": "stderr",
     "output_type": "stream",
     "text": [
      "  6%|▌         | 6/100 [02:55<46:29, 29.68s/it]"
     ]
    },
    {
     "name": "stdout",
     "output_type": "stream",
     "text": [
      "Epoch 6 | Val Acc: 0.3100\n"
     ]
    },
    {
     "name": "stderr",
     "output_type": "stream",
     "text": [
      "100%|██████████| 57/57 [00:18<00:00,  3.10it/s]\n",
      "  7%|▋         | 7/100 [03:21<44:01, 28.40s/it]"
     ]
    },
    {
     "name": "stdout",
     "output_type": "stream",
     "text": [
      "Epoch 7 | Loss: 1.8061\n"
     ]
    },
    {
     "name": "stderr",
     "output_type": "stream",
     "text": [
      "100%|██████████| 57/57 [00:18<00:00,  3.10it/s]\n"
     ]
    },
    {
     "name": "stdout",
     "output_type": "stream",
     "text": [
      "Epoch 8 | Loss: 1.7940\n"
     ]
    },
    {
     "name": "stderr",
     "output_type": "stream",
     "text": [
      "  8%|▊         | 8/100 [03:53<45:27, 29.65s/it]"
     ]
    },
    {
     "name": "stdout",
     "output_type": "stream",
     "text": [
      "Epoch 8 | Val Acc: 0.3100\n"
     ]
    },
    {
     "name": "stderr",
     "output_type": "stream",
     "text": [
      "100%|██████████| 57/57 [00:18<00:00,  3.10it/s]\n",
      "  9%|▉         | 9/100 [04:19<43:07, 28.44s/it]"
     ]
    },
    {
     "name": "stdout",
     "output_type": "stream",
     "text": [
      "Epoch 9 | Loss: 1.7784\n"
     ]
    },
    {
     "name": "stderr",
     "output_type": "stream",
     "text": [
      "100%|██████████| 57/57 [00:18<00:00,  3.10it/s]\n"
     ]
    },
    {
     "name": "stdout",
     "output_type": "stream",
     "text": [
      "Epoch 10 | Loss: 1.7570\n"
     ]
    },
    {
     "name": "stderr",
     "output_type": "stream",
     "text": [
      " 10%|█         | 10/100 [04:51<44:27, 29.64s/it]"
     ]
    },
    {
     "name": "stdout",
     "output_type": "stream",
     "text": [
      "Epoch 10 | Val Acc: 0.3118\n"
     ]
    },
    {
     "name": "stderr",
     "output_type": "stream",
     "text": [
      "100%|██████████| 57/57 [00:18<00:00,  3.10it/s]\n",
      " 11%|█         | 11/100 [05:17<42:12, 28.45s/it]"
     ]
    },
    {
     "name": "stdout",
     "output_type": "stream",
     "text": [
      "Epoch 11 | Loss: 1.7343\n"
     ]
    },
    {
     "name": "stderr",
     "output_type": "stream",
     "text": [
      "100%|██████████| 57/57 [00:18<00:00,  3.10it/s]\n"
     ]
    },
    {
     "name": "stdout",
     "output_type": "stream",
     "text": [
      "Epoch 12 | Loss: 1.7104\n"
     ]
    },
    {
     "name": "stderr",
     "output_type": "stream",
     "text": [
      " 12%|█▏        | 12/100 [05:49<43:27, 29.63s/it]"
     ]
    },
    {
     "name": "stdout",
     "output_type": "stream",
     "text": [
      "Epoch 12 | Val Acc: 0.3653\n"
     ]
    },
    {
     "name": "stderr",
     "output_type": "stream",
     "text": [
      "100%|██████████| 57/57 [00:18<00:00,  3.10it/s]\n",
      " 13%|█▎        | 13/100 [06:15<41:16, 28.46s/it]"
     ]
    },
    {
     "name": "stdout",
     "output_type": "stream",
     "text": [
      "Epoch 13 | Loss: 1.6766\n"
     ]
    },
    {
     "name": "stderr",
     "output_type": "stream",
     "text": [
      "100%|██████████| 57/57 [00:18<00:00,  3.10it/s]\n"
     ]
    },
    {
     "name": "stdout",
     "output_type": "stream",
     "text": [
      "Epoch 14 | Loss: 1.6406\n"
     ]
    },
    {
     "name": "stderr",
     "output_type": "stream",
     "text": [
      " 14%|█▍        | 14/100 [06:47<42:28, 29.63s/it]"
     ]
    },
    {
     "name": "stdout",
     "output_type": "stream",
     "text": [
      "Epoch 14 | Val Acc: 0.3506\n"
     ]
    },
    {
     "name": "stderr",
     "output_type": "stream",
     "text": [
      "100%|██████████| 57/57 [00:18<00:00,  3.10it/s]\n",
      " 15%|█▌        | 15/100 [07:13<40:19, 28.47s/it]"
     ]
    },
    {
     "name": "stdout",
     "output_type": "stream",
     "text": [
      "Epoch 15 | Loss: 1.6009\n"
     ]
    },
    {
     "name": "stderr",
     "output_type": "stream",
     "text": [
      "100%|██████████| 57/57 [00:18<00:00,  3.10it/s]\n"
     ]
    },
    {
     "name": "stdout",
     "output_type": "stream",
     "text": [
      "Epoch 16 | Loss: 1.5552\n"
     ]
    },
    {
     "name": "stderr",
     "output_type": "stream",
     "text": [
      " 16%|█▌        | 16/100 [07:45<41:28, 29.63s/it]"
     ]
    },
    {
     "name": "stdout",
     "output_type": "stream",
     "text": [
      "Epoch 16 | Val Acc: 0.3708\n"
     ]
    },
    {
     "name": "stderr",
     "output_type": "stream",
     "text": [
      "100%|██████████| 57/57 [00:18<00:00,  3.10it/s]\n",
      " 17%|█▋        | 17/100 [08:11<39:22, 28.47s/it]"
     ]
    },
    {
     "name": "stdout",
     "output_type": "stream",
     "text": [
      "Epoch 17 | Loss: 1.5101\n"
     ]
    },
    {
     "name": "stderr",
     "output_type": "stream",
     "text": [
      "100%|██████████| 57/57 [00:18<00:00,  3.10it/s]\n"
     ]
    },
    {
     "name": "stdout",
     "output_type": "stream",
     "text": [
      "Epoch 18 | Loss: 1.4593\n"
     ]
    },
    {
     "name": "stderr",
     "output_type": "stream",
     "text": [
      " 18%|█▊        | 18/100 [08:44<40:29, 29.63s/it]"
     ]
    },
    {
     "name": "stdout",
     "output_type": "stream",
     "text": [
      "Epoch 18 | Val Acc: 0.3690\n"
     ]
    },
    {
     "name": "stderr",
     "output_type": "stream",
     "text": [
      "100%|██████████| 57/57 [00:18<00:00,  3.10it/s]\n",
      " 19%|█▉        | 19/100 [09:09<38:26, 28.47s/it]"
     ]
    },
    {
     "name": "stdout",
     "output_type": "stream",
     "text": [
      "Epoch 19 | Loss: 1.4084\n"
     ]
    },
    {
     "name": "stderr",
     "output_type": "stream",
     "text": [
      "100%|██████████| 57/57 [00:18<00:00,  3.10it/s]\n"
     ]
    },
    {
     "name": "stdout",
     "output_type": "stream",
     "text": [
      "Epoch 20 | Loss: 1.3507\n"
     ]
    },
    {
     "name": "stderr",
     "output_type": "stream",
     "text": [
      " 20%|██        | 20/100 [09:42<39:29, 29.62s/it]"
     ]
    },
    {
     "name": "stdout",
     "output_type": "stream",
     "text": [
      "Epoch 20 | Val Acc: 0.5332\n"
     ]
    },
    {
     "name": "stderr",
     "output_type": "stream",
     "text": [
      "100%|██████████| 57/57 [00:18<00:00,  3.10it/s]\n",
      " 21%|██        | 21/100 [10:07<37:28, 28.47s/it]"
     ]
    },
    {
     "name": "stdout",
     "output_type": "stream",
     "text": [
      "Epoch 21 | Loss: 1.2924\n"
     ]
    },
    {
     "name": "stderr",
     "output_type": "stream",
     "text": [
      "100%|██████████| 57/57 [00:18<00:00,  3.10it/s]\n"
     ]
    },
    {
     "name": "stdout",
     "output_type": "stream",
     "text": [
      "Epoch 22 | Loss: 1.2292\n"
     ]
    },
    {
     "name": "stderr",
     "output_type": "stream",
     "text": [
      " 22%|██▏       | 22/100 [10:40<38:30, 29.62s/it]"
     ]
    },
    {
     "name": "stdout",
     "output_type": "stream",
     "text": [
      "Epoch 22 | Val Acc: 0.5055\n"
     ]
    },
    {
     "name": "stderr",
     "output_type": "stream",
     "text": [
      "100%|██████████| 57/57 [00:18<00:00,  3.11it/s]\n",
      " 23%|██▎       | 23/100 [11:05<36:31, 28.46s/it]"
     ]
    },
    {
     "name": "stdout",
     "output_type": "stream",
     "text": [
      "Epoch 23 | Loss: 1.1661\n"
     ]
    },
    {
     "name": "stderr",
     "output_type": "stream",
     "text": [
      "100%|██████████| 57/57 [00:18<00:00,  3.10it/s]\n"
     ]
    },
    {
     "name": "stdout",
     "output_type": "stream",
     "text": [
      "Epoch 24 | Loss: 1.0999\n"
     ]
    },
    {
     "name": "stderr",
     "output_type": "stream",
     "text": [
      " 24%|██▍       | 24/100 [11:38<37:31, 29.62s/it]"
     ]
    },
    {
     "name": "stdout",
     "output_type": "stream",
     "text": [
      "Epoch 24 | Val Acc: 0.5793\n"
     ]
    },
    {
     "name": "stderr",
     "output_type": "stream",
     "text": [
      "100%|██████████| 57/57 [00:18<00:00,  3.10it/s]\n",
      " 25%|██▌       | 25/100 [12:04<35:34, 28.46s/it]"
     ]
    },
    {
     "name": "stdout",
     "output_type": "stream",
     "text": [
      "Epoch 25 | Loss: 1.0344\n"
     ]
    },
    {
     "name": "stderr",
     "output_type": "stream",
     "text": [
      "100%|██████████| 57/57 [00:18<00:00,  3.10it/s]\n"
     ]
    },
    {
     "name": "stdout",
     "output_type": "stream",
     "text": [
      "Epoch 26 | Loss: 0.9713\n"
     ]
    },
    {
     "name": "stderr",
     "output_type": "stream",
     "text": [
      " 26%|██▌       | 26/100 [12:36<36:31, 29.62s/it]"
     ]
    },
    {
     "name": "stdout",
     "output_type": "stream",
     "text": [
      "Epoch 26 | Val Acc: 0.6089\n"
     ]
    },
    {
     "name": "stderr",
     "output_type": "stream",
     "text": [
      "100%|██████████| 57/57 [00:18<00:00,  3.11it/s]\n",
      " 27%|██▋       | 27/100 [13:02<34:37, 28.46s/it]"
     ]
    },
    {
     "name": "stdout",
     "output_type": "stream",
     "text": [
      "Epoch 27 | Loss: 0.9082\n"
     ]
    },
    {
     "name": "stderr",
     "output_type": "stream",
     "text": [
      "100%|██████████| 57/57 [00:18<00:00,  3.10it/s]\n"
     ]
    },
    {
     "name": "stdout",
     "output_type": "stream",
     "text": [
      "Epoch 28 | Loss: 0.8492\n"
     ]
    },
    {
     "name": "stderr",
     "output_type": "stream",
     "text": [
      " 28%|██▊       | 28/100 [13:34<35:32, 29.61s/it]"
     ]
    },
    {
     "name": "stdout",
     "output_type": "stream",
     "text": [
      "Epoch 28 | Val Acc: 0.6365\n"
     ]
    },
    {
     "name": "stderr",
     "output_type": "stream",
     "text": [
      "100%|██████████| 57/57 [00:18<00:00,  3.11it/s]\n",
      " 29%|██▉       | 29/100 [14:00<33:40, 28.45s/it]"
     ]
    },
    {
     "name": "stdout",
     "output_type": "stream",
     "text": [
      "Epoch 29 | Loss: 0.7923\n"
     ]
    },
    {
     "name": "stderr",
     "output_type": "stream",
     "text": [
      "100%|██████████| 57/57 [00:18<00:00,  3.10it/s]\n"
     ]
    },
    {
     "name": "stdout",
     "output_type": "stream",
     "text": [
      "Epoch 30 | Loss: 0.7377\n"
     ]
    },
    {
     "name": "stderr",
     "output_type": "stream",
     "text": [
      " 30%|███       | 30/100 [14:32<34:33, 29.62s/it]"
     ]
    },
    {
     "name": "stdout",
     "output_type": "stream",
     "text": [
      "Epoch 30 | Val Acc: 0.6937\n"
     ]
    },
    {
     "name": "stderr",
     "output_type": "stream",
     "text": [
      "100%|██████████| 57/57 [00:18<00:00,  3.11it/s]\n",
      " 31%|███       | 31/100 [14:58<32:43, 28.46s/it]"
     ]
    },
    {
     "name": "stdout",
     "output_type": "stream",
     "text": [
      "Epoch 31 | Loss: 0.6860\n"
     ]
    },
    {
     "name": "stderr",
     "output_type": "stream",
     "text": [
      "100%|██████████| 57/57 [00:18<00:00,  3.11it/s]\n"
     ]
    },
    {
     "name": "stdout",
     "output_type": "stream",
     "text": [
      "Epoch 32 | Loss: 0.6382\n"
     ]
    },
    {
     "name": "stderr",
     "output_type": "stream",
     "text": [
      " 32%|███▏      | 32/100 [15:30<33:33, 29.61s/it]"
     ]
    },
    {
     "name": "stdout",
     "output_type": "stream",
     "text": [
      "Epoch 32 | Val Acc: 0.7362\n"
     ]
    },
    {
     "name": "stderr",
     "output_type": "stream",
     "text": [
      "100%|██████████| 57/57 [00:18<00:00,  3.11it/s]\n",
      " 33%|███▎      | 33/100 [15:56<31:46, 28.45s/it]"
     ]
    },
    {
     "name": "stdout",
     "output_type": "stream",
     "text": [
      "Epoch 33 | Loss: 0.5918\n"
     ]
    },
    {
     "name": "stderr",
     "output_type": "stream",
     "text": [
      "100%|██████████| 57/57 [00:18<00:00,  3.11it/s]\n"
     ]
    },
    {
     "name": "stdout",
     "output_type": "stream",
     "text": [
      "Epoch 34 | Loss: 0.5488\n"
     ]
    },
    {
     "name": "stderr",
     "output_type": "stream",
     "text": [
      " 34%|███▍      | 34/100 [16:28<32:33, 29.60s/it]"
     ]
    },
    {
     "name": "stdout",
     "output_type": "stream",
     "text": [
      "Epoch 34 | Val Acc: 0.7565\n"
     ]
    },
    {
     "name": "stderr",
     "output_type": "stream",
     "text": [
      "100%|██████████| 57/57 [00:18<00:00,  3.11it/s]\n",
      " 35%|███▌      | 35/100 [16:54<30:48, 28.45s/it]"
     ]
    },
    {
     "name": "stdout",
     "output_type": "stream",
     "text": [
      "Epoch 35 | Loss: 0.5088\n"
     ]
    },
    {
     "name": "stderr",
     "output_type": "stream",
     "text": [
      "100%|██████████| 57/57 [00:18<00:00,  3.10it/s]\n"
     ]
    },
    {
     "name": "stdout",
     "output_type": "stream",
     "text": [
      "Epoch 36 | Loss: 0.4715\n"
     ]
    },
    {
     "name": "stderr",
     "output_type": "stream",
     "text": [
      " 36%|███▌      | 36/100 [17:26<31:35, 29.62s/it]"
     ]
    },
    {
     "name": "stdout",
     "output_type": "stream",
     "text": [
      "Epoch 36 | Val Acc: 0.7601\n"
     ]
    },
    {
     "name": "stderr",
     "output_type": "stream",
     "text": [
      "100%|██████████| 57/57 [00:18<00:00,  3.11it/s]\n",
      " 37%|███▋      | 37/100 [17:52<29:53, 28.46s/it]"
     ]
    },
    {
     "name": "stdout",
     "output_type": "stream",
     "text": [
      "Epoch 37 | Loss: 0.4363\n"
     ]
    },
    {
     "name": "stderr",
     "output_type": "stream",
     "text": [
      "100%|██████████| 57/57 [00:18<00:00,  3.10it/s]\n"
     ]
    },
    {
     "name": "stdout",
     "output_type": "stream",
     "text": [
      "Epoch 38 | Loss: 0.4028\n"
     ]
    },
    {
     "name": "stderr",
     "output_type": "stream",
     "text": [
      " 38%|███▊      | 38/100 [18:24<30:36, 29.61s/it]"
     ]
    },
    {
     "name": "stdout",
     "output_type": "stream",
     "text": [
      "Epoch 38 | Val Acc: 0.7860\n"
     ]
    },
    {
     "name": "stderr",
     "output_type": "stream",
     "text": [
      "100%|██████████| 57/57 [00:18<00:00,  3.10it/s]\n",
      " 39%|███▉      | 39/100 [18:50<28:55, 28.46s/it]"
     ]
    },
    {
     "name": "stdout",
     "output_type": "stream",
     "text": [
      "Epoch 39 | Loss: 0.3726\n"
     ]
    },
    {
     "name": "stderr",
     "output_type": "stream",
     "text": [
      "100%|██████████| 57/57 [00:18<00:00,  3.11it/s]\n"
     ]
    },
    {
     "name": "stdout",
     "output_type": "stream",
     "text": [
      "Epoch 40 | Loss: 0.3447\n"
     ]
    },
    {
     "name": "stderr",
     "output_type": "stream",
     "text": [
      " 40%|████      | 40/100 [19:22<29:36, 29.62s/it]"
     ]
    },
    {
     "name": "stdout",
     "output_type": "stream",
     "text": [
      "Epoch 40 | Val Acc: 0.7934\n"
     ]
    },
    {
     "name": "stderr",
     "output_type": "stream",
     "text": [
      "100%|██████████| 57/57 [00:18<00:00,  3.10it/s]\n",
      " 41%|████      | 41/100 [19:48<27:59, 28.47s/it]"
     ]
    },
    {
     "name": "stdout",
     "output_type": "stream",
     "text": [
      "Epoch 41 | Loss: 0.3190\n"
     ]
    },
    {
     "name": "stderr",
     "output_type": "stream",
     "text": [
      "100%|██████████| 57/57 [00:18<00:00,  3.10it/s]\n"
     ]
    },
    {
     "name": "stdout",
     "output_type": "stream",
     "text": [
      "Epoch 42 | Loss: 0.2950\n"
     ]
    },
    {
     "name": "stderr",
     "output_type": "stream",
     "text": [
      " 42%|████▏     | 42/100 [20:20<28:38, 29.63s/it]"
     ]
    },
    {
     "name": "stdout",
     "output_type": "stream",
     "text": [
      "Epoch 42 | Val Acc: 0.7934\n"
     ]
    },
    {
     "name": "stderr",
     "output_type": "stream",
     "text": [
      "100%|██████████| 57/57 [00:18<00:00,  3.10it/s]\n",
      " 43%|████▎     | 43/100 [20:46<27:02, 28.47s/it]"
     ]
    },
    {
     "name": "stdout",
     "output_type": "stream",
     "text": [
      "Epoch 43 | Loss: 0.2726\n"
     ]
    },
    {
     "name": "stderr",
     "output_type": "stream",
     "text": [
      "100%|██████████| 57/57 [00:18<00:00,  3.10it/s]\n"
     ]
    },
    {
     "name": "stdout",
     "output_type": "stream",
     "text": [
      "Epoch 44 | Loss: 0.2527\n"
     ]
    },
    {
     "name": "stderr",
     "output_type": "stream",
     "text": [
      " 44%|████▍     | 44/100 [21:19<27:39, 29.63s/it]"
     ]
    },
    {
     "name": "stdout",
     "output_type": "stream",
     "text": [
      "Epoch 44 | Val Acc: 0.8026\n"
     ]
    },
    {
     "name": "stderr",
     "output_type": "stream",
     "text": [
      "100%|██████████| 57/57 [00:18<00:00,  3.11it/s]\n",
      " 45%|████▌     | 45/100 [21:44<26:05, 28.47s/it]"
     ]
    },
    {
     "name": "stdout",
     "output_type": "stream",
     "text": [
      "Epoch 45 | Loss: 0.2344\n"
     ]
    },
    {
     "name": "stderr",
     "output_type": "stream",
     "text": [
      "100%|██████████| 57/57 [00:18<00:00,  3.10it/s]\n"
     ]
    },
    {
     "name": "stdout",
     "output_type": "stream",
     "text": [
      "Epoch 46 | Loss: 0.2176\n"
     ]
    },
    {
     "name": "stderr",
     "output_type": "stream",
     "text": [
      " 46%|████▌     | 46/100 [22:17<26:39, 29.63s/it]"
     ]
    },
    {
     "name": "stdout",
     "output_type": "stream",
     "text": [
      "Epoch 46 | Val Acc: 0.8192\n"
     ]
    },
    {
     "name": "stderr",
     "output_type": "stream",
     "text": [
      "100%|██████████| 57/57 [00:18<00:00,  3.10it/s]\n",
      " 47%|████▋     | 47/100 [22:42<25:08, 28.47s/it]"
     ]
    },
    {
     "name": "stdout",
     "output_type": "stream",
     "text": [
      "Epoch 47 | Loss: 0.2018\n"
     ]
    },
    {
     "name": "stderr",
     "output_type": "stream",
     "text": [
      "100%|██████████| 57/57 [00:18<00:00,  3.10it/s]\n"
     ]
    },
    {
     "name": "stdout",
     "output_type": "stream",
     "text": [
      "Epoch 48 | Loss: 0.1873\n"
     ]
    },
    {
     "name": "stderr",
     "output_type": "stream",
     "text": [
      " 48%|████▊     | 48/100 [23:15<25:40, 29.62s/it]"
     ]
    },
    {
     "name": "stdout",
     "output_type": "stream",
     "text": [
      "Epoch 48 | Val Acc: 0.8358\n"
     ]
    },
    {
     "name": "stderr",
     "output_type": "stream",
     "text": [
      "100%|██████████| 57/57 [00:18<00:00,  3.10it/s]\n",
      " 49%|████▉     | 49/100 [23:40<24:11, 28.47s/it]"
     ]
    },
    {
     "name": "stdout",
     "output_type": "stream",
     "text": [
      "Epoch 49 | Loss: 0.1745\n"
     ]
    },
    {
     "name": "stderr",
     "output_type": "stream",
     "text": [
      "100%|██████████| 57/57 [00:18<00:00,  3.10it/s]\n"
     ]
    },
    {
     "name": "stdout",
     "output_type": "stream",
     "text": [
      "Epoch 50 | Loss: 0.1625\n"
     ]
    },
    {
     "name": "stderr",
     "output_type": "stream",
     "text": [
      " 50%|█████     | 50/100 [24:13<24:41, 29.63s/it]"
     ]
    },
    {
     "name": "stdout",
     "output_type": "stream",
     "text": [
      "Epoch 50 | Val Acc: 0.8413\n"
     ]
    },
    {
     "name": "stderr",
     "output_type": "stream",
     "text": [
      "100%|██████████| 57/57 [00:18<00:00,  3.10it/s]\n",
      " 51%|█████     | 51/100 [24:39<23:15, 28.47s/it]"
     ]
    },
    {
     "name": "stdout",
     "output_type": "stream",
     "text": [
      "Epoch 51 | Loss: 0.1513\n"
     ]
    },
    {
     "name": "stderr",
     "output_type": "stream",
     "text": [
      "100%|██████████| 57/57 [00:18<00:00,  3.10it/s]\n"
     ]
    },
    {
     "name": "stdout",
     "output_type": "stream",
     "text": [
      "Epoch 52 | Loss: 0.1412\n"
     ]
    },
    {
     "name": "stderr",
     "output_type": "stream",
     "text": [
      " 52%|█████▏    | 52/100 [25:11<23:41, 29.62s/it]"
     ]
    },
    {
     "name": "stdout",
     "output_type": "stream",
     "text": [
      "Epoch 52 | Val Acc: 0.8469\n"
     ]
    },
    {
     "name": "stderr",
     "output_type": "stream",
     "text": [
      "100%|██████████| 57/57 [00:18<00:00,  3.10it/s]\n",
      " 53%|█████▎    | 53/100 [25:37<22:17, 28.47s/it]"
     ]
    },
    {
     "name": "stdout",
     "output_type": "stream",
     "text": [
      "Epoch 53 | Loss: 0.1320\n"
     ]
    },
    {
     "name": "stderr",
     "output_type": "stream",
     "text": [
      "100%|██████████| 57/57 [00:18<00:00,  3.10it/s]\n"
     ]
    },
    {
     "name": "stdout",
     "output_type": "stream",
     "text": [
      "Epoch 54 | Loss: 0.1238\n"
     ]
    },
    {
     "name": "stderr",
     "output_type": "stream",
     "text": [
      " 54%|█████▍    | 54/100 [26:09<22:42, 29.62s/it]"
     ]
    },
    {
     "name": "stdout",
     "output_type": "stream",
     "text": [
      "Epoch 54 | Val Acc: 0.8395\n"
     ]
    },
    {
     "name": "stderr",
     "output_type": "stream",
     "text": [
      "100%|██████████| 57/57 [00:18<00:00,  3.10it/s]\n",
      " 55%|█████▌    | 55/100 [26:35<21:20, 28.46s/it]"
     ]
    },
    {
     "name": "stdout",
     "output_type": "stream",
     "text": [
      "Epoch 55 | Loss: 0.1160\n"
     ]
    },
    {
     "name": "stderr",
     "output_type": "stream",
     "text": [
      "100%|██████████| 57/57 [00:18<00:00,  3.10it/s]\n"
     ]
    },
    {
     "name": "stdout",
     "output_type": "stream",
     "text": [
      "Epoch 56 | Loss: 0.1089\n"
     ]
    },
    {
     "name": "stderr",
     "output_type": "stream",
     "text": [
      " 56%|█████▌    | 56/100 [27:07<21:43, 29.61s/it]"
     ]
    },
    {
     "name": "stdout",
     "output_type": "stream",
     "text": [
      "Epoch 56 | Val Acc: 0.8469\n"
     ]
    },
    {
     "name": "stderr",
     "output_type": "stream",
     "text": [
      "100%|██████████| 57/57 [00:18<00:00,  3.10it/s]\n",
      " 57%|█████▋    | 57/100 [27:33<20:23, 28.46s/it]"
     ]
    },
    {
     "name": "stdout",
     "output_type": "stream",
     "text": [
      "Epoch 57 | Loss: 0.1025\n"
     ]
    },
    {
     "name": "stderr",
     "output_type": "stream",
     "text": [
      "100%|██████████| 57/57 [00:18<00:00,  3.10it/s]\n"
     ]
    },
    {
     "name": "stdout",
     "output_type": "stream",
     "text": [
      "Epoch 58 | Loss: 0.0964\n"
     ]
    },
    {
     "name": "stderr",
     "output_type": "stream",
     "text": [
      " 58%|█████▊    | 58/100 [28:05<20:43, 29.61s/it]"
     ]
    },
    {
     "name": "stdout",
     "output_type": "stream",
     "text": [
      "Epoch 58 | Val Acc: 0.8450\n"
     ]
    },
    {
     "name": "stderr",
     "output_type": "stream",
     "text": [
      "100%|██████████| 57/57 [00:18<00:00,  3.10it/s]\n",
      " 59%|█████▉    | 59/100 [28:31<19:26, 28.46s/it]"
     ]
    },
    {
     "name": "stdout",
     "output_type": "stream",
     "text": [
      "Epoch 59 | Loss: 0.0909\n"
     ]
    },
    {
     "name": "stderr",
     "output_type": "stream",
     "text": [
      "100%|██████████| 57/57 [00:18<00:00,  3.10it/s]\n"
     ]
    },
    {
     "name": "stdout",
     "output_type": "stream",
     "text": [
      "Epoch 60 | Loss: 0.0857\n"
     ]
    },
    {
     "name": "stderr",
     "output_type": "stream",
     "text": [
      " 60%|██████    | 60/100 [29:03<19:44, 29.61s/it]"
     ]
    },
    {
     "name": "stdout",
     "output_type": "stream",
     "text": [
      "Epoch 60 | Val Acc: 0.8413\n"
     ]
    },
    {
     "name": "stderr",
     "output_type": "stream",
     "text": [
      "100%|██████████| 57/57 [00:18<00:00,  3.10it/s]\n",
      " 61%|██████    | 61/100 [29:29<18:29, 28.45s/it]"
     ]
    },
    {
     "name": "stdout",
     "output_type": "stream",
     "text": [
      "Epoch 61 | Loss: 0.0808\n"
     ]
    },
    {
     "name": "stderr",
     "output_type": "stream",
     "text": [
      "100%|██████████| 57/57 [00:18<00:00,  3.10it/s]\n"
     ]
    },
    {
     "name": "stdout",
     "output_type": "stream",
     "text": [
      "Epoch 62 | Loss: 0.0764\n"
     ]
    },
    {
     "name": "stderr",
     "output_type": "stream",
     "text": [
      " 61%|██████    | 61/100 [30:01<19:11, 29.54s/it]"
     ]
    },
    {
     "name": "stdout",
     "output_type": "stream",
     "text": [
      "Epoch 62 | Val Acc: 0.8450\n",
      "Early stopping at epoch 62\n"
     ]
    },
    {
     "name": "stderr",
     "output_type": "stream",
     "text": [
      "\n"
     ]
    }
   ],
   "source": [
    "set_seed(0)\n",
    "\n",
    "# tokenize all texts\n",
    "text_inputs = tokenizer(text_cora, return_tensors='pt', padding=True, truncation=True, max_length=512)          # dict_keys(['input_ids', 'token_type_ids', 'attention_mask'])\n",
    "data_cora = data_cora.cuda()\n",
    "\n",
    "# joint training\n",
    "EPOCHS = 100\n",
    "cora_epoch_loss_list = []\n",
    "\n",
    "early_stop_ep = 10\n",
    "epoch_no_improve = 0\n",
    "val_ep = 2\n",
    "best_val_acc = 0\n",
    "\n",
    "for i in tqdm(range(EPOCHS)):\n",
    "    epoch = i + 1\n",
    "    \n",
    "    loss = lm_gnn.train_one_epoch(data_cora, text_inputs, bs_text=48)\n",
    "    \n",
    "    print(f'Epoch {epoch} | Loss: {loss:.4f}')\n",
    "    cora_epoch_loss_list.append(loss)\n",
    "    \n",
    "    if epoch % val_ep == 0:\n",
    "        acc = lm_gnn.evaluate(data_cora, text_inputs, bs_text=48, eval_split='val')\n",
    "        print(f'Epoch {epoch} | Val Acc: {acc:.4f}')\n",
    "\n",
    "        if acc > best_val_acc:\n",
    "            best_val_acc = acc\n",
    "            epoch_no_improve = 0\n",
    "        else:\n",
    "            epoch_no_improve += val_ep\n",
    "        \n",
    "        if epoch_no_improve >= early_stop_ep:\n",
    "            print(f'Early stopping at epoch {epoch}')\n",
    "            break"
   ]
  },
  {
   "cell_type": "code",
   "execution_count": 9,
   "metadata": {},
   "outputs": [
    {
     "data": {
      "image/png": "[encoded data removed]",
      "text/plain": [
       "<Figure size 640x480 with 1 Axes>"
      ]
     },
     "metadata": {},
     "output_type": "display_data"
    }
   ],
   "source": [
    "# plot loss\n",
    "plt.plot(cora_epoch_loss_list, label='Cora')\n",
    "plt.legend()\n",
    "plt.show()"
   ]
  },
  {
   "cell_type": "code",
   "execution_count": 10,
   "metadata": {},
   "outputs": [
    {
     "name": "stdout",
     "output_type": "stream",
     "text": [
      "Accuracy: Train 0.9144, Val 0.8450, Test 0.8524\n"
     ]
    }
   ],
   "source": [
    "acc_train = lm_gnn.evaluate(data_cora, text_inputs, bs_text=48, eval_split='train')\n",
    "acc_val = lm_gnn.evaluate(data_cora, text_inputs, bs_text=48, eval_split='val')\n",
    "acc_test = lm_gnn.evaluate(data_cora, text_inputs, bs_text=48, eval_split='test')\n",
    "print(f'Accuracy: Train {acc_train:.4f}, Val {acc_val:.4f}, Test {acc_test:.4f}')"
   ]
  }
 ],
 "metadata": {
  "kernelspec": {
   "display_name": "gnn",
   "language": "python",
   "name": "python3"
  },
  "language_info": {
   "codemirror_mode": {
    "name": "ipython",
    "version": 3
   },
   "file_extension": ".py",
   "mimetype": "text/x-python",
   "name": "python",
   "nbconvert_exporter": "python",
   "pygments_lexer": "ipython3",
   "version": "3.11.10"
  }
 },
 "nbformat": 4,
 "nbformat_minor": 2
}
